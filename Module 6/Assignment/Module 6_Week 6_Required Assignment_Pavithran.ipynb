{
  "nbformat": 4,
  "nbformat_minor": 0,
  "metadata": {
    "colab": {
      "provenance": []
    },
    "kernelspec": {
      "name": "python3",
      "display_name": "Python 3"
    },
    "language_info": {
      "name": "python"
    }
  },
  "cells": [
    {
      "cell_type": "code",
      "execution_count": 1,
      "metadata": {
        "colab": {
          "base_uri": "https://localhost:8080/"
        },
        "id": "M63kBQ-E4jkf",
        "outputId": "e705b1a1-6ef7-46c3-dbee-a63e1dec75da"
      },
      "outputs": [
        {
          "output_type": "stream",
          "name": "stdout",
          "text": [
            "Hello Jijin!\n",
            "Jijin will be 35 years old after 10 years from now.\n",
            "Jijin is 1.8 meters tall.\n"
          ]
        }
      ],
      "source": [
        "# 1. Variables and Data Types (5 Marks)\n",
        "# Write a Python program that:\n",
        "#     a) Declares variables for storing a user’s name, age, and height.\n",
        "#     b) Prints a greeting message using the name.\n",
        "#     c) Calculates the user’s age 10 years from now.\n",
        "#     d) Displays height in meters by converting height from centimetres.\n",
        "name = \"Jijin\"  # variable to store name\n",
        "age = 25        # variable to store age\n",
        "height = 180    # variable to store height in centimeters\n",
        "\n",
        "print(\"Hello {}!\".format(name)) # greeting message using the name\n",
        "age+=10                 # age + 10\n",
        "print(\"{0} will be {1} years old after 10 years from now.\".format(name, age)) # age 10 years from now\n",
        "height = height/100     # height in meters\n",
        "print(f\"{name} is {height} meters tall.\")"
      ]
    },
    {
      "cell_type": "code",
      "source": [
        "# 2. Conditional Statements (5 Marks)\n",
        "# Write a Python program that:\n",
        "#     a) Prompts the user to enter a number.\n",
        "#     b) Checks if the number is positive, negative, or zero.\n",
        "#     c) Prints an appropriate message based on the result.\n",
        "input_number = float(input(\"Enter a number: \")) # prompt the user to enter a number\n",
        "if(input_number>0):\n",
        "    print(f\"The number {input_number} is positive.\")\n",
        "elif(input_number<0):\n",
        "    print(f\"The number {input_number} is negative.\")\n",
        "else:\n",
        "    print(f\"The number {input_number} is zero.\")"
      ],
      "metadata": {
        "colab": {
          "base_uri": "https://localhost:8080/"
        },
        "id": "NiFmL6nR4xz7",
        "outputId": "703ea806-19f9-4fa7-87f9-f2509ab69fa5"
      },
      "execution_count": 2,
      "outputs": [
        {
          "output_type": "stream",
          "name": "stdout",
          "text": [
            "Enter a number: 12\n",
            "The number 12.0 is positive.\n"
          ]
        }
      ]
    },
    {
      "cell_type": "code",
      "source": [
        "# 3. Loops and Iteration (5 Marks)\n",
        "# Write a program that:\n",
        "#     a) Prompts the user to input an integer nnn.\n",
        "#     b) Uses a for loop to print all even numbers from 1 up to nnn.\n",
        "#     c) Ensures only even numbers appear in the output.\n",
        "\n",
        "nnn = int(input(\"Enter an integer between 1 to nnn: \")) # prompt the user to enter an integer from 1 to nnn\n",
        "for i in range(1, nnn+1):\n",
        "    if(i%2==0):     # condition to check the number is even\n",
        "        print(i)    # print even numbers\n"
      ],
      "metadata": {
        "colab": {
          "base_uri": "https://localhost:8080/"
        },
        "id": "40839gGY45jG",
        "outputId": "d71033eb-513c-4f93-8b1a-54c19b3838ea"
      },
      "execution_count": 4,
      "outputs": [
        {
          "output_type": "stream",
          "name": "stdout",
          "text": [
            "Enter an integer between 1 to nnn: 15\n",
            "2\n",
            "4\n",
            "6\n",
            "8\n",
            "10\n",
            "12\n",
            "14\n"
          ]
        }
      ]
    },
    {
      "cell_type": "code",
      "source": [
        "# 4. Functions (5 Marks)\n",
        "# Write a program that:\n",
        "    # a) Defines a function to calculate the area of a rectangle using length and width as inputs.\n",
        "    # b) Prompts the user to input values for length and width.\n",
        "    # c) Calls the function to calculate and then displays the area in a formatted message.\n",
        "\n",
        "def calcuate_rect_area(length, width):  # function to calculate the area of a rectangle\n",
        "    return length*width\n",
        "\n",
        "rect_length = float(input(\"Enter the length of the rectangle: \")) # prompt the user to enter the length\n",
        "rect_width = float(input(\"Enter the width of the rectangle: \"))   # prompt the user to enter the width\n",
        "\n",
        "rect_area = calcuate_rect_area(rect_length, rect_width) # function call to calculate the area\n",
        "print(f\"The area of a rectangle with length {rect_length} unit and width {rect_width} unit is {rect_area} unit square.\") # display the area in a formatted message"
      ],
      "metadata": {
        "colab": {
          "base_uri": "https://localhost:8080/"
        },
        "id": "lAC83iVU5kNT",
        "outputId": "63014d97-d400-4f32-ebd2-7613d7dcaefa"
      },
      "execution_count": 5,
      "outputs": [
        {
          "output_type": "stream",
          "name": "stdout",
          "text": [
            "Enter the length of the rectangle: 12\n",
            "Enter the width of the rectangle: 11.5\n",
            "The area of a rectangle with length 12.0 unit and width 11.5 unit is 138.0 unit square.\n"
          ]
        }
      ]
    }
  ]
}